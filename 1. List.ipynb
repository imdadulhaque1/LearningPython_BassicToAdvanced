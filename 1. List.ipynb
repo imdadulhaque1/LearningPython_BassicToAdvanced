{
 "cells": [
  {
   "cell_type": "markdown",
   "metadata": {},
   "source": [
    "# Introduction of List\n",
    "\n",
    "There are Four data types have in Python to works with multiple items as \n",
    "<ul>\n",
    "    <li>List</li>\n",
    "    <li>Tuple</li>\n",
    "    <li>Set</li>\n",
    "    <li>Dictionary</li>\n",
    "</ul>\n",
    "\n",
    "<p><b>List:</b> Basically the square bracket \"[ ]\" defines the list in python and you can store differents type of data in List.</p>"
   ]
  },
  {
   "cell_type": "code",
   "execution_count": 1,
   "metadata": {},
   "outputs": [
    {
     "name": "stdout",
     "output_type": "stream",
     "text": [
      "Data Type: <class 'list'>\n",
      "\n",
      "List: ['Hena Khatun, Enamul Haque', 'Imdadul Haque', 'Shampa Khatun', 'Israt Jahan Maisha']\n"
     ]
    }
   ],
   "source": [
    "#Just check the type where making a family member List\n",
    "\n",
    "family_member = [\"Hena Khatun, Enamul Haque\", \"Imdadul Haque\", \"Shampa Khatun\", \"Israt Jahan Maisha\"]\n",
    "print(f\"Data Type: {type(family_member)}\\n\\nList: {family_member}\")  "
   ]
  },
  {
   "cell_type": "code",
   "execution_count": 2,
   "metadata": {},
   "outputs": [
    {
     "name": "stdout",
     "output_type": "stream",
     "text": [
      "Data Type: <class 'list'>\n",
      "\n",
      "List: [171, 15, 1440]\n"
     ]
    }
   ],
   "source": [
    "#Just check the type where making a Number List\n",
    "\n",
    "number = [171, 15, 1440]\n",
    "print(f\"Data Type: {type(number)}\\n\\nList: {number}\")"
   ]
  },
  {
   "cell_type": "code",
   "execution_count": 3,
   "metadata": {},
   "outputs": [
    {
     "name": "stdout",
     "output_type": "stream",
     "text": [
      "Data Type: <class 'list'>\n",
      "\n",
      "List: [171, 1440, 'Imdadul Haque', 3.51, 'Israt Jahan Maisha']\n"
     ]
    }
   ],
   "source": [
    "#Just check the type where have used String, Integer and Float type of data for making a List\n",
    "\n",
    "numName = [171, 1440, \"Imdadul Haque\", 3.51, \"Israt Jahan Maisha\"]\n",
    "print(f\"Data Type: {type(numName)}\\n\\nList: {numName}\")"
   ]
  },
  {
   "cell_type": "markdown",
   "metadata": {},
   "source": [
    "# Index in List\n",
    "<p><b>Index number in String</b>: The index number start from zero and  every character defines a index number in <b>String</b>.</p>\n",
    "\n",
    "<p><b>Index number in List</b>: The index number start from zero and  every item defines a index number in <b>List</b>.</p>"
   ]
  },
  {
   "cell_type": "code",
   "execution_count": 4,
   "metadata": {},
   "outputs": [
    {
     "name": "stdout",
     "output_type": "stream",
     "text": [
      "I\n",
      "Imdadul\n"
     ]
    }
   ],
   "source": [
    "#Index number in String\n",
    "\n",
    "name = \"Imdadul Haque\"\n",
    "print(name[0])\n",
    "print(name[:7])"
   ]
  },
  {
   "cell_type": "code",
   "execution_count": 5,
   "metadata": {},
   "outputs": [
    {
     "name": "stdout",
     "output_type": "stream",
     "text": [
      "3.51\n",
      "[171, 1440, 'Imdadul Haque']\n"
     ]
    }
   ],
   "source": [
    "#Index number in List\n",
    "\n",
    "numName = [171, 1440, \"Imdadul Haque\", 3.51, \"Israt Jahan Maisha\"]\n",
    "print(numName[3])\n",
    "print(numName[:3])"
   ]
  },
  {
   "cell_type": "code",
   "execution_count": 6,
   "metadata": {},
   "outputs": [
    {
     "name": "stdout",
     "output_type": "stream",
     "text": [
      "3.51\n",
      "Imdadul Haque\n"
     ]
    }
   ],
   "source": [
    "print(numName[3])     # Left to Right:- Starting from zero\n",
    "print(numName[-3])     # Right to Left:- Starting from -1"
   ]
  },
  {
   "cell_type": "code",
   "execution_count": null,
   "metadata": {},
   "outputs": [],
   "source": []
  },
  {
   "cell_type": "markdown",
   "metadata": {},
   "source": [
    "# List Slicing"
   ]
  },
  {
   "cell_type": "code",
   "execution_count": null,
   "metadata": {},
   "outputs": [],
   "source": []
  },
  {
   "cell_type": "markdown",
   "metadata": {},
   "source": [
    "# Method & Functions of List"
   ]
  },
  {
   "cell_type": "code",
   "execution_count": null,
   "metadata": {},
   "outputs": [],
   "source": []
  }
 ],
 "metadata": {
  "kernelspec": {
   "display_name": "Python 3",
   "language": "python",
   "name": "python3"
  },
  "language_info": {
   "codemirror_mode": {
    "name": "ipython",
    "version": 3
   },
   "file_extension": ".py",
   "mimetype": "text/x-python",
   "name": "python",
   "nbconvert_exporter": "python",
   "pygments_lexer": "ipython3",
   "version": "3.8.3"
  }
 },
 "nbformat": 4,
 "nbformat_minor": 4
}
