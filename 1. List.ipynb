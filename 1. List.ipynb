{
 "cells": [
  {
   "cell_type": "markdown",
   "metadata": {},
   "source": [
    "# Introduction of List\n",
    "\n",
    "There are Four data types have in Python to works with multiple items as \n",
    "<ul>\n",
    "    <li>List</li>\n",
    "    <li>Tuple</li>\n",
    "    <li>Set</li>\n",
    "    <li>Dictionary</li>\n",
    "</ul>\n",
    "\n",
    "<p><b>List:</b> Basically the square bracket \"[ ]\" defines the list in python and you can store differents type of data in List.</p>"
   ]
  },
  {
   "cell_type": "code",
   "execution_count": 1,
   "metadata": {},
   "outputs": [
    {
     "name": "stdout",
     "output_type": "stream",
     "text": [
      "Data Type: <class 'list'>\n",
      "\n",
      "List: ['Hena Khatun, Enamul Haque', 'Imdadul Haque', 'Shampa Khatun', 'Israt Jahan Maisha']\n"
     ]
    }
   ],
   "source": [
    "#Just check the type where making a family member List\n",
    "\n",
    "family_member = [\"Hena Khatun, Enamul Haque\", \"Imdadul Haque\", \"Shampa Khatun\", \"Israt Jahan Maisha\"]\n",
    "print(f\"Data Type: {type(family_member)}\\n\\nList: {family_member}\")  "
   ]
  },
  {
   "cell_type": "code",
   "execution_count": 2,
   "metadata": {},
   "outputs": [
    {
     "name": "stdout",
     "output_type": "stream",
     "text": [
      "Data Type: <class 'list'>\n",
      "\n",
      "List: [171, 15, 1440]\n"
     ]
    }
   ],
   "source": [
    "#Just check the type where making a Number List\n",
    "\n",
    "number = [171, 15, 1440]\n",
    "print(f\"Data Type: {type(number)}\\n\\nList: {number}\")"
   ]
  },
  {
   "cell_type": "code",
   "execution_count": 3,
   "metadata": {},
   "outputs": [
    {
     "name": "stdout",
     "output_type": "stream",
     "text": [
      "Data Type: <class 'list'>\n",
      "\n",
      "List: [171, 1440, 'Imdadul Haque', 3.51, 'Israt Jahan Maisha']\n"
     ]
    }
   ],
   "source": [
    "#Just check the type where have used String, Integer and Float type of data for making a List\n",
    "\n",
    "numName = [171, 1440, \"Imdadul Haque\", 3.51, \"Israt Jahan Maisha\"]\n",
    "print(f\"Data Type: {type(numName)}\\n\\nList: {numName}\")"
   ]
  },
  {
   "cell_type": "markdown",
   "metadata": {},
   "source": [
    "# Index in List\n",
    "<p><b>Index number in String</b>: The index number start from zero and  every character defines a index number in <b>String</b>.</p>\n",
    "\n",
    "<p><b>Index number in List</b>: The index number start from zero and  every item defines a index number in <b>List</b>.</p>"
   ]
  },
  {
   "cell_type": "code",
   "execution_count": 4,
   "metadata": {},
   "outputs": [
    {
     "name": "stdout",
     "output_type": "stream",
     "text": [
      "I\n",
      "Imdadul\n"
     ]
    }
   ],
   "source": [
    "#Index number in String\n",
    "\n",
    "name = \"Imdadul Haque\"\n",
    "print(name[0])\n",
    "print(name[:7])"
   ]
  },
  {
   "cell_type": "code",
   "execution_count": 5,
   "metadata": {},
   "outputs": [
    {
     "name": "stdout",
     "output_type": "stream",
     "text": [
      "3.51\n",
      "[171, 1440, 'Imdadul Haque']\n"
     ]
    }
   ],
   "source": [
    "#Index number in List\n",
    "\n",
    "numName = [171, 1440, \"Imdadul Haque\", 3.51, \"Israt Jahan Maisha\"]\n",
    "print(numName[3])\n",
    "print(numName[:3])"
   ]
  },
  {
   "cell_type": "code",
   "execution_count": 6,
   "metadata": {},
   "outputs": [
    {
     "name": "stdout",
     "output_type": "stream",
     "text": [
      "3.51\n",
      "Imdadul Haque\n"
     ]
    }
   ],
   "source": [
    "print(numName[3])     # Left to Right:- Starting from zero\n",
    "print(numName[-3])     # Right to Left:- Starting from -1"
   ]
  },
  {
   "cell_type": "code",
   "execution_count": null,
   "metadata": {},
   "outputs": [],
   "source": []
  },
  {
   "cell_type": "markdown",
   "metadata": {},
   "source": [
    "# List Slicing\n",
    "<p><b>Rules of List Slicing without Steps</b>: [starting point : ending point]</p>\n",
    "<p><b>Rules of List Slicing with Steps</b>: [starting point : ending point : steps]</p>\n",
    "\n",
    "<ul>\n",
    "    <li><b>Starting Points</b>:- Starting points means from here counting would be started</li>\n",
    "     <li><b>Ending Points</b>:- Ending points means before the index number it would be counted</li>\n",
    "    <li><b>Steps</b>:- the moving means jumping</li>\n",
    "</ul>"
   ]
  },
  {
   "cell_type": "code",
   "execution_count": 7,
   "metadata": {},
   "outputs": [],
   "source": [
    "n =  [1, 2, 3, 4, 5, 6, 7, 8, 9, 10]\n",
    "#-->  0  1  2  3  4  5  6  7  8  9\n",
    "#<-- -1 -2 -3 -4 -5 -6 -7 -8 -9 -10"
   ]
  },
  {
   "cell_type": "code",
   "execution_count": 8,
   "metadata": {},
   "outputs": [
    {
     "name": "stdout",
     "output_type": "stream",
     "text": [
      "1 to 8: [2, 3, 4, 5, 6, 7, 8]\n",
      "1 to -8: [2]\n"
     ]
    }
   ],
   "source": [
    "#--------> [starting point : ending point]\n",
    "print(f\"1 to 8: {n[1:8]}\")\n",
    "print(f\"1 to -8: {n[1:-8]}\")"
   ]
  },
  {
   "cell_type": "code",
   "execution_count": 9,
   "metadata": {},
   "outputs": [
    {
     "name": "stdout",
     "output_type": "stream",
     "text": [
      "1 to 9 with steps 3: [2, 5, 8]\n",
      "1 to -9 with steps 3: [2, 5]\n"
     ]
    }
   ],
   "source": [
    "#---------> [Starting point : Ending Point : Steps]\n",
    "print(f\"1 to 9 with steps 3: {n[1:9:3]}\")\n",
    "print(f\"1 to -9 with steps 3: {n[1:-4:3]}\")"
   ]
  },
  {
   "cell_type": "code",
   "execution_count": 10,
   "metadata": {},
   "outputs": [
    {
     "name": "stdout",
     "output_type": "stream",
     "text": [
      "Length of String: 61\n",
      "Left to Right: Full Stack Software Developer\n",
      "Right to Left: TFP Solutions Bangladesh\n"
     ]
    }
   ],
   "source": [
    "#-----------> String Slicing <-----------#\n",
    "\n",
    "string = \"Full Stack Software Developer at TFP Solutions Bangladesh Ltd\"\n",
    "print(f\"Length of String: {len(string)}\")\n",
    "print(f\"Left to Right: {string[0:29]}\")\n",
    "print(f\"Right to Left: {string[33:-4]}\")"
   ]
  },
  {
   "cell_type": "code",
   "execution_count": null,
   "metadata": {},
   "outputs": [],
   "source": []
  },
  {
   "cell_type": "markdown",
   "metadata": {},
   "source": [
    "# Method & Functions of List\n",
    "<p>\n",
    "    Pyhton provides various kind of <b>method</b> & <b>function</b> as given below by using dir() function and it should be noticed that dir() show that's method and functions which actually related to this.\n",
    "</p>"
   ]
  },
  {
   "cell_type": "code",
   "execution_count": 11,
   "metadata": {},
   "outputs": [],
   "source": [
    "# familyMember = [\"Hena Khatun, Enamul Haque\", \"Imdadul Haque\", \"Shampa Khatun\", \"Israt Jahan Maisha\"]\n",
    "# print(dir(familyMember))"
   ]
  },
  {
   "cell_type": "code",
   "execution_count": 12,
   "metadata": {},
   "outputs": [],
   "source": [
    "# number = [171, 15, 1440]\n",
    "# print(dir(number))"
   ]
  },
  {
   "cell_type": "code",
   "execution_count": 13,
   "metadata": {},
   "outputs": [
    {
     "name": "stdout",
     "output_type": "stream",
     "text": [
      "['__add__', '__class__', '__contains__', '__delattr__', '__delitem__', '__dir__', '__doc__', '__eq__', '__format__', '__ge__', '__getattribute__', '__getitem__', '__gt__', '__hash__', '__iadd__', '__imul__', '__init__', '__init_subclass__', '__iter__', '__le__', '__len__', '__lt__', '__mul__', '__ne__', '__new__', '__reduce__', '__reduce_ex__', '__repr__', '__reversed__', '__rmul__', '__setattr__', '__setitem__', '__sizeof__', '__str__', '__subclasshook__', 'append', 'clear', 'copy', 'count', 'extend', 'index', 'insert', 'pop', 'remove', 'reverse', 'sort']\n"
     ]
    }
   ],
   "source": [
    "\n",
    "numName = [171, 1440, \"Imdadul Haque\", 3.51, \"Israt Jahan Maisha\"]\n",
    "print(dir(numName))"
   ]
  },
  {
   "cell_type": "code",
   "execution_count": 14,
   "metadata": {},
   "outputs": [
    {
     "name": "stdout",
     "output_type": "stream",
     "text": [
      "[171, 1440, 'Imdadul Haque', 3.51, 'Israt Jahan Maisha']\n"
     ]
    }
   ],
   "source": [
    "print(numName)"
   ]
  },
  {
   "cell_type": "code",
   "execution_count": 15,
   "metadata": {},
   "outputs": [
    {
     "name": "stdout",
     "output_type": "stream",
     "text": [
      "Length of the List: 5\n"
     ]
    }
   ],
   "source": [
    "print(f\"Length of the List: {len(numName)}\")"
   ]
  },
  {
   "cell_type": "code",
   "execution_count": 16,
   "metadata": {},
   "outputs": [
    {
     "name": "stdout",
     "output_type": "stream",
     "text": [
      "Original List: [171, 1440, 'Imdadul Haque', 3.51, 'Israt Jahan Maisha']\n",
      "\n",
      "The List after append a item: [171, 1440, 'Imdadul Haque', 3.51, 'Israt Jahan Maisha', 'Shampa Akther']\n"
     ]
    }
   ],
   "source": [
    "#---> Append: Append always add the value as a last index of the list\n",
    "print(f\"Original List: {numName}\")\n",
    "numName.append(\"Shampa Akther\")\n",
    "print(f\"\\nThe List after append a item: {numName}\")"
   ]
  },
  {
   "cell_type": "code",
   "execution_count": 17,
   "metadata": {},
   "outputs": [
    {
     "name": "stdout",
     "output_type": "stream",
     "text": [
      "[171, 15, 1440]\n"
     ]
    }
   ],
   "source": [
    "print(number)"
   ]
  },
  {
   "cell_type": "code",
   "execution_count": 18,
   "metadata": {},
   "outputs": [
    {
     "name": "stdout",
     "output_type": "stream",
     "text": [
      "[]\n"
     ]
    }
   ],
   "source": [
    "#-> Clear(): clear() method mainly used for clear the list and \n",
    "# --> the list would be totally null means there would not have a single item\n",
    "number.clear()\n",
    "print(number)"
   ]
  },
  {
   "cell_type": "code",
   "execution_count": 19,
   "metadata": {},
   "outputs": [
    {
     "name": "stdout",
     "output_type": "stream",
     "text": [
      "Original List: [171, 1440, 'Imdadul Haque', 3.51, 'Israt Jahan Maisha', 'Shampa Akther']\n",
      "\n",
      "After Copy the list: [171, 1440, 'Imdadul Haque', 3.51, 'Israt Jahan Maisha', 'Shampa Akther']\n",
      "\n",
      "\n",
      "Append a item in Copied list: [171, 1440, 'Imdadul Haque', 3.51, 'Israt Jahan Maisha', 'Shampa Akther', '01773964101']\n",
      "Original List: [171, 1440, 'Imdadul Haque', 3.51, 'Israt Jahan Maisha', 'Shampa Akther']\n"
     ]
    }
   ],
   "source": [
    "#-> Copy(): copy() method mainly used for coping the all of the items of the list\n",
    "# --> speciality of using copy method is stored the coping items others memory location\n",
    "#----> although there is a same memory size\n",
    "\n",
    "print(F\"Original List: {numName}\")\n",
    "copy_numName = numName.copy()\n",
    "print(f\"\\nAfter Copy the list: {copy_numName}\")\n",
    "\n",
    "copy_numName.append(\"01773964101\")\n",
    "print(f\"\\n\\nAppend a item in Copied list: {copy_numName}\")  #There is no same memory location\n",
    "print(F\"Original List: {numName}\")"
   ]
  },
  {
   "cell_type": "code",
   "execution_count": 20,
   "metadata": {},
   "outputs": [
    {
     "name": "stdout",
     "output_type": "stream",
     "text": [
      "Copied List: [1, 2, 3, 4, 5]\n",
      "Original List: [1, 2, 3, 4, 5]\n"
     ]
    }
   ],
   "source": [
    "# ----> Copy using Assignment Operator: is also another way to copy the list but it defines the same memory address\n",
    "#---> so that, if once is change another will be changed and it's the limitation\n",
    "num1 = [1, 2, 3, 4]\n",
    "copy_num1 = num1\n",
    "copy_num1.append(5)\n",
    "print(f\"Copied List: {copy_num1}\")\n",
    "print(f\"Original List: {num1}\") #Once is changed twice is changed "
   ]
  },
  {
   "cell_type": "code",
   "execution_count": 21,
   "metadata": {},
   "outputs": [
    {
     "name": "stdout",
     "output_type": "stream",
     "text": [
      "Total same item is: 1\n",
      "Total same item is: 2\n",
      "After append the 4, the list is: [1, 2, 3, 4, 5, 4]\n"
     ]
    }
   ],
   "source": [
    "#---> Count(): count() method is used for counting the item in the list means \n",
    "# ------> how many times a items presented in a list\n",
    "print(f\"Total same item is: {num1.count(4)}\")\n",
    "num1.append(4)\n",
    "print(f\"Total same item is: {num1.count(4)}\")\n",
    "print(f\"After append the 4, the list is: {num1}\")"
   ]
  },
  {
   "cell_type": "code",
   "execution_count": 22,
   "metadata": {},
   "outputs": [
    {
     "name": "stdout",
     "output_type": "stream",
     "text": [
      "After extend the list num1 and num2: [1, 2, 3, 4, 5, 4, 6, 7, 8, 9]\n"
     ]
    }
   ],
   "source": [
    "#----> extend(): is used for merge between differents list\n",
    "num2 = [6, 7, 8, 9]\n",
    "num1.extend(num2)\n",
    "print(f\"After extend the list num1 and num2: {num1}\")\n",
    "\n",
    "#---> we can do the same task using assingment operator \"=\" as given bellow,\n",
    "# nums = num1 + num2\n",
    "# print(f\"num1 + num2: {nums}\")"
   ]
  },
  {
   "cell_type": "code",
   "execution_count": 23,
   "metadata": {},
   "outputs": [
    {
     "name": "stdout",
     "output_type": "stream",
     "text": [
      "List: [1, 2, 3, 4, 5, 4, 6, 7, 8, 9]\n",
      "3 index number: 2\n"
     ]
    }
   ],
   "source": [
    "# ---> index(): is used for findout the position of the item is a list\n",
    "print(f\"List: {num1}\")\n",
    "print(f\"3 index number: {num1.index(3)}\")"
   ]
  },
  {
   "cell_type": "code",
   "execution_count": 24,
   "metadata": {},
   "outputs": [
    {
     "name": "stdout",
     "output_type": "stream",
     "text": [
      "Input the wanted item: 3\n",
      "Item Position: 2\n"
     ]
    }
   ],
   "source": [
    "indexList = [1, 2, 3, 3, 1]\n",
    "item = int(input(\"Input the wanted item: \"))\n",
    "print(f\"Item Position: {indexList.index(item)}\")"
   ]
  },
  {
   "cell_type": "markdown",
   "metadata": {},
   "source": [
    "# insert() method:\n",
    "<p> <b>insert():</b> It is used to insert any item in list at any position in list. <br>\n",
    "<b>append():</b> it only can insert item at the last of the list but insert method is used for inserting item at any position of list.\n",
    "</p>"
   ]
  },
  {
   "cell_type": "code",
   "execution_count": 25,
   "metadata": {},
   "outputs": [
    {
     "name": "stdout",
     "output_type": "stream",
     "text": [
      "Original list: ['Imdadul', 'Lakibul']\n",
      "After inserting name at 2 position: ['Imdadul', 'Lakibul', 'Shamima']\n",
      "Again inserting name at 2 position: ['Imdadul', 'Lakibul', 'Rakibul', 'Shamima']\n",
      "Further inserting name at 4 position: ['Imdadul', 'Lakibul', 'Rakibul', 'Shamima', 'Fakrul']\n"
     ]
    }
   ],
   "source": [
    "#Use of insert() method\n",
    "names=[\"Imdadul\",\"Lakibul\"]\n",
    "print(f\"Original list: {names}\")\n",
    "names.insert(2,\"Shamima\")\n",
    "print(f\"After inserting name at 2 position: {names}\")\n",
    "names.insert(2,\"Rakibul\")\n",
    "print(f\"Again inserting name at 2 position: {names}\")\n",
    "names.insert(4,\"Fakrul\")\n",
    "print(f\"Further inserting name at 4 position: {names}\")"
   ]
  },
  {
   "cell_type": "code",
   "execution_count": 26,
   "metadata": {},
   "outputs": [
    {
     "name": "stdout",
     "output_type": "stream",
     "text": [
      "After pop item: ['Imdadul', 'Lakibul', 'Rakibul', 'Shamima']\n"
     ]
    }
   ],
   "source": [
    "#-----> pop() method is used for remove item at the last index from the list\n",
    "\n",
    "names.pop()\n",
    "print(f\"After pop item: {names}\")"
   ]
  },
  {
   "cell_type": "code",
   "execution_count": 27,
   "metadata": {},
   "outputs": [
    {
     "name": "stdout",
     "output_type": "stream",
     "text": [
      "After remove item using remove(): ['Imdadul', 'Lakibul', 'Shamima']\n",
      "After Delete item using del(): ['Imdadul', 'Shamima']\n"
     ]
    }
   ],
   "source": [
    "#-----> remove() method is used for removing specific item from list.\n",
    "#-----> Using remove() method, we can remove item from anywhere from list\n",
    "\n",
    "names.remove(\"Rakibul\")\n",
    "print(f\"After remove item using remove(): {names}\")\n",
    "\n",
    "del names[1] # 1 is index number of the list\n",
    "print(f\"After Delete item using del(): {names}\")"
   ]
  },
  {
   "cell_type": "code",
   "execution_count": 32,
   "metadata": {},
   "outputs": [
    {
     "name": "stdout",
     "output_type": "stream",
     "text": [
      "list after delete item 4: [1, 2, 3, 4, 5, 6, 6, 7, 8, 9, 10]\n",
      "list after remove item 4: [1, 2, 3, 4, 5, 6, 7, 8, 9, 10]\n",
      "After deleted the list is: [1, 2, 3, 4]\n"
     ]
    }
   ],
   "source": [
    "n=[1,2,3,4,4,5,6,6,7,8,9,10]\n",
    "\n",
    "del n[3]  # 3 is index number\n",
    "print(f\"list after delete item 4: {n}\")\n",
    "\n",
    "n.remove(6)   # 6 is item number\n",
    "print(f\"list after remove item 4: {n}\")\n",
    "\n",
    "del n[4:] #Using Slicing system: from 4 no index all of the item is deleted\n",
    "print(f\"After deleted the list is: {n}\")"
   ]
  },
  {
   "cell_type": "markdown",
   "metadata": {},
   "source": [
    "# remove() VS del() VS pop()\n",
    "\n",
    "\n",
    "<table style=\"width:100%; border:1px solid black\">\n",
    " <tr style=\"border:1px solid black\">\n",
    "        <th style=\"text-align:center; border:1px solid black\">remove()</th>\n",
    "        <th style=\"text-align:center; border:1px solid black\">del()</th>\n",
    "     <th style=\"text-align:center; border:1px solid black\">pop()</th>\n",
    "    </tr>\n",
    "    <tr style=\"border:1px solid black\">\n",
    "        <th style=\"text-align:center; border:1px solid black\">Can remove from anywhere of the list using </b>item</b> name</th>\n",
    "        <th style=\"text-align:center; border:1px solid black\">Can delete from anywhere of the list using <b>index</b> number & can delete using slicing</th>\n",
    "        <th style=\"text-align:center; border:1px solid black\">Always remove the last index of the list</th>\n",
    "    </tr>\n",
    "</table>"
   ]
  },
  {
   "cell_type": "code",
   "execution_count": 29,
   "metadata": {},
   "outputs": [
    {
     "name": "stdout",
     "output_type": "stream",
     "text": [
      "After sorting the list: [1, 2, 4, 6, 99, 100, 200, 500]\n"
     ]
    }
   ],
   "source": [
    "#---> sort(): is used for sorting the list's items by defaults as ascending order\n",
    "numbers = [1, 6, 4, 2, 100,500, 200, 99]\n",
    "numbers.sort()\n",
    "print(f\"After sorting the list: {numbers}\")"
   ]
  },
  {
   "cell_type": "code",
   "execution_count": 31,
   "metadata": {},
   "outputs": [
    {
     "name": "stdout",
     "output_type": "stream",
     "text": [
      "After reversing the list: [1, 2, 4, 6, 99, 100, 200, 500]\n"
     ]
    }
   ],
   "source": [
    "#---> sort(): is used for reversing the list's item by defaults as descending order\n",
    "numbers.reverse()\n",
    "print(f\"After reversing the list: {numbers}\")"
   ]
  },
  {
   "cell_type": "code",
   "execution_count": 36,
   "metadata": {},
   "outputs": [
    {
     "name": "stdout",
     "output_type": "stream",
     "text": [
      "Original List: [1, 2, 3, 3, 5, 6, 7, 8, 9, 10]\n",
      " Updated List: [1, 2, 3, 4, 5, 6, 7, 8, 9, 10]\n"
     ]
    }
   ],
   "source": [
    "#-------->Simple way to update item in list\n",
    "n=[1,2,3,3,5,6,7,8,9,10]\n",
    "print(f\"Original List: {n}\")\n",
    "\n",
    "n[3]=4  #We update item using index number\n",
    "print(f\" Updated List: {n}\")"
   ]
  },
  {
   "cell_type": "code",
   "execution_count": 37,
   "metadata": {},
   "outputs": [
    {
     "name": "stdout",
     "output_type": "stream",
     "text": [
      "Original List: [1, 2, 3, 4, 5, 6, 7, 8, 9, 10]\n",
      "Minimum number from list: 1\n",
      "Maximum number from list: 10\n",
      "Summation of all items in list: 55\n"
     ]
    }
   ],
   "source": [
    "#-----------> sum(): is used to sum all no of list\n",
    "print(f\"Original List: {n}\")\n",
    "\n",
    "minimum = min(n)\n",
    "print(f\"Minimum number from list: {minimum}\")\n",
    "\n",
    "maximum = max(n)\n",
    "print(f\"Maximum number from list: {maximum}\")\n",
    "\n",
    "summation = sum(n)\n",
    "print(f\"Summation of all items in list: {summation}\")"
   ]
  }
 ],
 "metadata": {
  "kernelspec": {
   "display_name": "Python 3",
   "language": "python",
   "name": "python3"
  },
  "language_info": {
   "codemirror_mode": {
    "name": "ipython",
    "version": 3
   },
   "file_extension": ".py",
   "mimetype": "text/x-python",
   "name": "python",
   "nbconvert_exporter": "python",
   "pygments_lexer": "ipython3",
   "version": "3.8.3"
  }
 },
 "nbformat": 4,
 "nbformat_minor": 4
}
